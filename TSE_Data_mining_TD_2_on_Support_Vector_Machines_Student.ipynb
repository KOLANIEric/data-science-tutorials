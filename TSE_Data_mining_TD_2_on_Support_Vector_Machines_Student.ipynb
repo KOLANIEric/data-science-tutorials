{
  "nbformat": 4,
  "nbformat_minor": 0,
  "metadata": {
    "colab": {
      "provenance": [],
      "toc_visible": true
    },
    "kernelspec": {
      "name": "python3",
      "display_name": "Python 3"
    }
  },
  "cells": [
    {
      "cell_type": "markdown",
      "metadata": {
        "id": "CW4SWI6YaA3q"
      },
      "source": [
        "# TD on Support Vector Machines or SVMs (part 1)\n",
        "\n",
        "### Usage of this notebook\n",
        "- __run a cell__ with **_ctrl-enter_** or **_shift-enter_**\n",
        "- __use the command palette__ with **_ctrl-shift-P_** to find more complex commands\n",
        "\n",
        "Use it referably with __Edge__ or __Chrome__\n",
        "\n"
      ]
    },
    {
      "cell_type": "code",
      "metadata": {
        "id": "nteEjjzPNuM8"
      },
      "source": [
        "# Some typical scientific & data manipulation packages\n",
        "import numpy as np\n",
        "import pandas as pd\n",
        "\n",
        "# Keras, deep learning library, used here only to load the MNIST dataset\n",
        "from keras.datasets import mnist\n",
        "\n",
        "# Imports from sklearn package: data generation, svm module & metrics\n",
        "from sklearn import svm\n",
        "from sklearn.datasets import make_blobs\n",
        "from sklearn.model_selection import train_test_split, GridSearchCV\n",
        "from sklearn.metrics import confusion_matrix, roc_auc_score, accuracy_score, mean_squared_error\n",
        "\n",
        "\n",
        "# Visualization packages\n",
        "import seaborn as sns\n",
        "import matplotlib.pyplot as plt\n",
        "from matplotlib import cm"
      ],
      "execution_count": 1,
      "outputs": []
    },
    {
      "cell_type": "markdown",
      "metadata": {
        "id": "Cw4NdH5cNVIT"
      },
      "source": [
        "# **Exercise 1. Implement your own simple linear SVM classifier**\n",
        "\n",
        "#### Let's write a simplified code for SVMs on a random dataset\n",
        "- 1.1. Generate random dataset & visualize it (done)\n",
        "- 1.2. Write a generic code for SVM training (fit)\n",
        "- 1.3. Play around with dataset & algorithm parameters. Visualize optimum boundary.\n",
        "- 1.4. Let's try the multiclass classification [optional]"
      ]
    },
    {
      "cell_type": "markdown",
      "source": [
        "### 1.1 Initialization"
      ],
      "metadata": {
        "id": "qmJ6QTckdRN5"
      }
    },
    {
      "cell_type": "code",
      "metadata": {
        "id": "t2yCkkmb_S3h",
        "colab": {
          "base_uri": "https://localhost:8080/",
          "height": 447
        },
        "outputId": "61e16b3c-5333-48ac-f99d-5e5d6731e84e"
      },
      "source": [
        "# Generate random dataset\n",
        "X, Y = make_blobs(n_samples=100, centers=2, random_state=1, cluster_std=1)\n",
        "\n",
        "# Visualize the dataset\n",
        "plt.scatter(X[:,0], X[:,1], c=Y)"
      ],
      "execution_count": 2,
      "outputs": [
        {
          "output_type": "execute_result",
          "data": {
            "text/plain": [
              "<matplotlib.collections.PathCollection at 0x79a867f91e40>"
            ]
          },
          "metadata": {},
          "execution_count": 2
        },
        {
          "output_type": "display_data",
          "data": {
            "text/plain": [
              "<Figure size 640x480 with 1 Axes>"
            ],
            "image/png": "[encoded data removed]"
          },
          "metadata": {}
        }
      ]
    },
    {
      "cell_type": "markdown",
      "metadata": {
        "id": "qqulvDKAkMXj"
      },
      "source": [
        "### 1.2 Simple linear Support Vector Machine code"
      ]
    },
    {
      "cell_type": "code",
      "source": [
        "class SVM:\n",
        "\n",
        "  # Initialization of algorithm parameters\n",
        "  def __init__(self, learning_rate=0.001, lambda_param=0.01, n_iters=1000):\n",
        "    self.lr = learning_rate\n",
        "    self.lambda_param = lambda_param\n",
        "    self.n_iters = n_iters\n",
        "    self.w = None\n",
        "    self.b = None\n",
        "\n",
        "  def fit(self, X, Y):\n",
        "    n_samples, n_features = X.shape # samples => lines, features => columns of X\n",
        "\n",
        "    # Change class label from 0 to -1\n",
        "    # (6 different ways: https://datagy.io/python-replace-item-in-list/)\n",
        "    Y = np.where(Y==0, -1, 1)\n",
        "  ## -1 if Y == 0 else Y == Y # np.where(Y==0, -1, 1)\n",
        "\n",
        "    # Initialize weights and bias to zero for start, remember that w is a vector\n",
        "    # so you must use np.zeros(dim), b is a scalar\n",
        "    self.w = np.zeros(n_features) ## np.zeros(n_features)\n",
        "    self.b = 0\n",
        "\n",
        "    # Iterate over the predefined amount of iterations on __init__ of your class\n",
        "    for iter in range(self.n_iters):\n",
        "\n",
        "      # for each point Xi in your dataset\n",
        "      for idx, Xi in enumerate(X):\n",
        "\n",
        "        # Test your condition: is Yi(Xi.W - b) >= 1?\n",
        "        condition = Y[idx] * (np.dot(Xi, self.w - self.b)) >= 1\n",
        "\n",
        "        # If the condition is satisfied, then update the weights accordingly\n",
        "        if condition:\n",
        "          self.w -= self.w - self.lr*(self.lambda_param * self.w)\n",
        "        else:\n",
        "          self.w -= self.w + self.lr*(Y[idx]*Xi - self.lambda_param * self.w)\n",
        "          # Update the bias\n",
        "          self.b -= self.lr*Y[idx]\n",
        "\n",
        "  def predict(self, X):\n",
        "    # y = wX - b\n",
        "    y_pred = np.dot(self.w * Xi - self.b)\n",
        "    # return the sign of this approximation\n",
        "    return np.sign(ypred)\n",
        "\n",
        "clf = SVM()\n",
        "clf.fit(X,Y)\n",
        "print(clf.w, clf.b)\n",
        "# predictions = clf.predict(my_point) # You can take random points and make a prediction"
      ],
      "metadata": {
        "id": "WJduRrdLCReI",
        "colab": {
          "base_uri": "https://localhost:8080/"
        },
        "outputId": "575b8f28-38cc-4e10-b359-ca91012d55f4"
      },
      "execution_count": 20,
      "outputs": [
        {
          "output_type": "stream",
          "name": "stdout",
          "text": [
            "[8.53437257e-05 3.64531206e-03] 0.0\n"
          ]
        }
      ]
    },
    {
      "cell_type": "markdown",
      "metadata": {
        "id": "bJR2vTCwxVb3"
      },
      "source": [
        "### 1.3 Play with#\n",
        "- the input dataset\n",
        "  - nb of samples\n",
        "  - cluster std\n",
        "  - random state\n",
        "- the SVM algorithm hyperparameters\n",
        "  - learning rate\n",
        "  - lambda\n",
        "  - nb iterations\n",
        "  & launch the visualization code below to view the results."
      ]
    },
    {
      "cell_type": "code",
      "metadata": {
        "id": "0nPsfypKlSUX",
        "colab": {
          "base_uri": "https://localhost:8080/",
          "height": 430
        },
        "outputId": "eba259ea-622e-4ab2-ca05-19bb5fa22224"
      },
      "source": [
        "def visualize_svm():\n",
        "  def get_hyperplane_value(x, w, b, offset):\n",
        "      return (-w[0] * x + b + offset) / w[1]\n",
        "\n",
        "  fig = plt.figure()\n",
        "  ax = fig.add_subplot(1, 1, 1)\n",
        "  plt.scatter(X[:,0], X[:,1], c=Y, s=50)\n",
        "\n",
        "  x0_1 = np.amin(X[:,0])\n",
        "  x0_2 = np.amax(X[:,0])\n",
        "\n",
        "  x1_1 = get_hyperplane_value(x0_1, clf.w, clf.b, 0)\n",
        "  x1_2 = get_hyperplane_value(x0_2, clf.w, clf.b, 0)\n",
        "\n",
        "  x1_1_m = get_hyperplane_value(x0_1, clf.w, clf.b, -1)\n",
        "  x1_2_m = get_hyperplane_value(x0_2, clf.w, clf.b, -1)\n",
        "\n",
        "  x1_1_p = get_hyperplane_value(x0_1, clf.w, clf.b, 1)\n",
        "  x1_2_p = get_hyperplane_value(x0_2, clf.w, clf.b, 1)\n",
        "\n",
        "  ax.plot([x0_1, x0_2], [x1_1, x1_2], \"k\")\n",
        "  ax.plot([x0_1, x0_2], [x1_1_m, x1_2_m], \"b--\")\n",
        "  ax.plot([x0_1, x0_2], [x1_1_p, x1_2_p], \"y--\")\n",
        "\n",
        "  x1_min = np.amin(X[:,1])\n",
        "  x1_max = np.amax(X[:,1])\n",
        "  ax.set_ylim([x1_min - 3, x1_max + 3])\n",
        "\n",
        "  plt.show()\n",
        "\n",
        "visualize_svm()"
      ],
      "execution_count": 21,
      "outputs": [
        {
          "output_type": "display_data",
          "data": {
            "text/plain": [
              "<Figure size 640x480 with 1 Axes>"
            ],
            "image/png": "[encoded data removed]"
          },
          "metadata": {}
        }
      ]
    },
    {
      "cell_type": "markdown",
      "source": [
        "### 1.4 Multiclass classifier [OPTIONAL]\n",
        "\n",
        "You can try to implement the one-vs-one or the one-vs-rest method using the SVM class above"
      ],
      "metadata": {
        "id": "zTqlVKyCvB0a"
      }
    },
    {
      "cell_type": "code",
      "source": [],
      "metadata": {
        "id": "fb_UEXENUoJQ"
      },
      "execution_count": null,
      "outputs": []
    },
    {
      "cell_type": "markdown",
      "metadata": {
        "id": "zFVSgQ5jQm-i"
      },
      "source": [
        "# **Exercise 2. Multi-class classification problem - Support Vector Classifier (SVC)**\n",
        "\n",
        "#### Let's test SVMs on images of the MNIST dataset\n",
        "First steps: loading the data set, displaying images & input formatting have been done for you. You will have to focus on:\n",
        "- 2.4. Training your SVM (select best kernel and parameters)\n",
        "- 2.5. Making predictions\n",
        "- 2.6. Measuring its accuracy\n",
        "- 2.7. [Optional] Compare your results with the ones obtained with your handmade neural network (do you remember!?)"
      ]
    },
    {
      "cell_type": "markdown",
      "metadata": {
        "id": "pKJvcu-xV24p"
      },
      "source": [
        "### 2.1. Load the data set (done)"
      ]
    },
    {
      "cell_type": "code",
      "metadata": {
        "id": "0yikVVzOe-jI",
        "colab": {
          "base_uri": "https://localhost:8080/"
        },
        "outputId": "ce3fed09-13a1-42ec-c404-5ab6eb3f0179"
      },
      "source": [
        "(X_train, Y_train), (X_test, Y_test) = mnist.load_data()\n",
        "\n",
        "print(X_train.shape)\n",
        "print(X_test.shape)\n",
        "print(Y_train.shape)\n",
        "print(Y_test.shape)"
      ],
      "execution_count": 22,
      "outputs": [
        {
          "output_type": "stream",
          "name": "stdout",
          "text": [
            "Downloading data from https://storage.googleapis.com/tensorflow/tf-keras-datasets/mnist.npz\n",
            "11490434/11490434 [==============================] - 0s 0us/step\n",
            "(60000, 28, 28)\n",
            "(10000, 28, 28)\n",
            "(60000,)\n",
            "(10000,)\n"
          ]
        }
      ]
    },
    {
      "cell_type": "markdown",
      "metadata": {
        "id": "QAB5AOoVWIdH"
      },
      "source": [
        "### 2.2. Display images (done)"
      ]
    },
    {
      "cell_type": "code",
      "metadata": {
        "id": "sYe_OTYsH6MF",
        "colab": {
          "base_uri": "https://localhost:8080/",
          "height": 463
        },
        "outputId": "87d71871-405c-4fde-b25b-d99bf4b6e0c0"
      },
      "source": [
        "# 2.2.1\n",
        "imagesfig = plt.figure()\n",
        "for i in range(9):\n",
        "  plt.subplot(3,3,i+1)\n",
        "  plt.tight_layout()\n",
        "  plt.imshow(X_train[i], cmap='gray', interpolation='none')\n",
        "  plt.title(\"Digit: {}\".format(Y_train[i]))\n",
        "  plt.xticks([])\n",
        "  plt.yticks([])"
      ],
      "execution_count": 23,
      "outputs": [
        {
          "output_type": "display_data",
          "data": {
            "text/plain": [
              "<Figure size 640x480 with 9 Axes>"
            ],
            "image/png": "[encoded data removed]"
          },
          "metadata": {}
        }
      ]
    },
    {
      "cell_type": "code",
      "metadata": {
        "id": "PRKzF13494dI",
        "colab": {
          "base_uri": "https://localhost:8080/",
          "height": 482
        },
        "outputId": "8cfcd260-3bad-4f9c-cb1f-1ed21ac130c7"
      },
      "source": [
        "# 2.2.2 What input vector & labels look like for a given image\n",
        "# Re-run several times to display several images\n",
        "# Choose a train image at random\n",
        "i = np.random.randint(0,X_train.shape[0]-1)\n",
        "print(\"Input vector: {} \".format(X_train[13, 13]))\n",
        "\n",
        "# Display image\n",
        "plt.imshow(1.0-X_train[i,:].reshape(28,28),cmap=\"gray\")\n",
        "plt.show()\n",
        "\n",
        "# Display label\n",
        "print(\"Label: {}\".format(Y_train[i]))"
      ],
      "execution_count": 24,
      "outputs": [
        {
          "output_type": "stream",
          "name": "stdout",
          "text": [
            "Input vector: [  0   0   0   0   0   0   0   0  76 252 253 223  37   0  48 174 252 252\n",
            " 242 214 253 199  31   0   0   0   0   0] \n"
          ]
        },
        {
          "output_type": "display_data",
          "data": {
            "text/plain": [
              "<Figure size 640x480 with 1 Axes>"
            ],
            "image/png": "[encoded data removed]"
          },
          "metadata": {}
        },
        {
          "output_type": "stream",
          "name": "stdout",
          "text": [
            "Label: 9\n"
          ]
        }
      ]
    },
    {
      "cell_type": "markdown",
      "metadata": {
        "id": "jcq06pdBikPf"
      },
      "source": [
        "### 2.3. Input data reshaping (done)\n",
        "\n",
        "Reshape MNIST inputs to vector of length 784 (28*28) and scale to the [0-1] range"
      ]
    },
    {
      "cell_type": "code",
      "metadata": {
        "id": "Jq7dx1DIikk2"
      },
      "source": [
        "img_rows, img_cols = 28, 28\n",
        "X_train = X_train.reshape(X_train.shape[0], img_rows * img_cols) / 255\n",
        "X_test = X_test.reshape(X_test.shape[0], img_rows * img_cols) / 255"
      ],
      "execution_count": 25,
      "outputs": []
    },
    {
      "cell_type": "markdown",
      "metadata": {
        "id": "Z5InDgpPfPaG"
      },
      "source": [
        "### 2.4. Train your multiclass SVM classifier\n",
        "Or use sklearn library: https://scikit-learn.org/stable/modules/generated/sklearn.svm.SVC.html\n",
        "\n",
        "Note that we are predicting a class among: 0, 1, 2, 3, 4, 5, 6, 7, 8 & 9.\n",
        "\n",
        "\n",
        "/!\\ Please, don't take the entire dataset (take 1000 to 10000 samples otherwise you'll never get the result !)"
      ]
    },
    {
      "cell_type": "code",
      "metadata": {
        "id": "_Wfw58--fOum",
        "colab": {
          "base_uri": "https://localhost:8080/",
          "height": 75
        },
        "outputId": "db8f903c-f48f-4b92-bbc8-cd333737c335"
      },
      "source": [
        "model = svm.SVC()\n",
        "model.fit(X_train[1000:], Y_train[1000:])"
      ],
      "execution_count": 26,
      "outputs": [
        {
          "output_type": "execute_result",
          "data": {
            "text/plain": [
              "SVC()"
            ],
            "text/html": [
              "<style>#sk-container-id-1 {color: black;background-color: white;}#sk-container-id-1 pre{padding: 0;}#sk-container-id-1 div.sk-toggleable {background-color: white;}#sk-container-id-1 label.sk-toggleable__label {cursor: pointer;display: block;width: 100%;margin-bottom: 0;padding: 0.3em;box-sizing: border-box;text-align: center;}#sk-container-id-1 label.sk-toggleable__label-arrow:before {content: \"▸\";float: left;margin-right: 0.25em;color: #696969;}#sk-container-id-1 label.sk-toggleable__label-arrow:hover:before {color: black;}#sk-container-id-1 div.sk-estimator:hover label.sk-toggleable__label-arrow:before {color: black;}#sk-container-id-1 div.sk-toggleable__content {max-height: 0;max-width: 0;overflow: hidden;text-align: left;background-color: #f0f8ff;}#sk-container-id-1 div.sk-toggleable__content pre {margin: 0.2em;color: black;border-radius: 0.25em;background-color: #f0f8ff;}#sk-container-id-1 input.sk-toggleable__control:checked~div.sk-toggleable__content {max-height: 200px;max-width: 100%;overflow: auto;}#sk-container-id-1 input.sk-toggleable__control:checked~label.sk-toggleable__label-arrow:before {content: \"▾\";}#sk-container-id-1 div.sk-estimator input.sk-toggleable__control:checked~label.sk-toggleable__label {background-color: #d4ebff;}#sk-container-id-1 div.sk-label input.sk-toggleable__control:checked~label.sk-toggleable__label {background-color: #d4ebff;}#sk-container-id-1 input.sk-hidden--visually {border: 0;clip: rect(1px 1px 1px 1px);clip: rect(1px, 1px, 1px, 1px);height: 1px;margin: -1px;overflow: hidden;padding: 0;position: absolute;width: 1px;}#sk-container-id-1 div.sk-estimator {font-family: monospace;background-color: #f0f8ff;border: 1px dotted black;border-radius: 0.25em;box-sizing: border-box;margin-bottom: 0.5em;}#sk-container-id-1 div.sk-estimator:hover {background-color: #d4ebff;}#sk-container-id-1 div.sk-parallel-item::after {content: \"\";width: 100%;border-bottom: 1px solid gray;flex-grow: 1;}#sk-container-id-1 div.sk-label:hover label.sk-toggleable__label {background-color: #d4ebff;}#sk-container-id-1 div.sk-serial::before {content: \"\";position: absolute;border-left: 1px solid gray;box-sizing: border-box;top: 0;bottom: 0;left: 50%;z-index: 0;}#sk-container-id-1 div.sk-serial {display: flex;flex-direction: column;align-items: center;background-color: white;padding-right: 0.2em;padding-left: 0.2em;position: relative;}#sk-container-id-1 div.sk-item {position: relative;z-index: 1;}#sk-container-id-1 div.sk-parallel {display: flex;align-items: stretch;justify-content: center;background-color: white;position: relative;}#sk-container-id-1 div.sk-item::before, #sk-container-id-1 div.sk-parallel-item::before {content: \"\";position: absolute;border-left: 1px solid gray;box-sizing: border-box;top: 0;bottom: 0;left: 50%;z-index: -1;}#sk-container-id-1 div.sk-parallel-item {display: flex;flex-direction: column;z-index: 1;position: relative;background-color: white;}#sk-container-id-1 div.sk-parallel-item:first-child::after {align-self: flex-end;width: 50%;}#sk-container-id-1 div.sk-parallel-item:last-child::after {align-self: flex-start;width: 50%;}#sk-container-id-1 div.sk-parallel-item:only-child::after {width: 0;}#sk-container-id-1 div.sk-dashed-wrapped {border: 1px dashed gray;margin: 0 0.4em 0.5em 0.4em;box-sizing: border-box;padding-bottom: 0.4em;background-color: white;}#sk-container-id-1 div.sk-label label {font-family: monospace;font-weight: bold;display: inline-block;line-height: 1.2em;}#sk-container-id-1 div.sk-label-container {text-align: center;}#sk-container-id-1 div.sk-container {/* jupyter's `normalize.less` sets `[hidden] { display: none; }` but bootstrap.min.css set `[hidden] { display: none !important; }` so we also need the `!important` here to be able to override the default hidden behavior on the sphinx rendered scikit-learn.org. See: https://github.com/scikit-learn/scikit-learn/issues/21755 */display: inline-block !important;position: relative;}#sk-container-id-1 div.sk-text-repr-fallback {display: none;}</style><div id=\"sk-container-id-1\" class=\"sk-top-container\"><div class=\"sk-text-repr-fallback\"><pre>SVC()</pre><b>In a Jupyter environment, please rerun this cell to show the HTML representation or trust the notebook. <br />On GitHub, the HTML representation is unable to render, please try loading this page with nbviewer.org.</b></div><div class=\"sk-container\" hidden><div class=\"sk-item\"><div class=\"sk-estimator sk-toggleable\"><input class=\"sk-toggleable__control sk-hidden--visually\" id=\"sk-estimator-id-1\" type=\"checkbox\" checked><label for=\"sk-estimator-id-1\" class=\"sk-toggleable__label sk-toggleable__label-arrow\">SVC</label><div class=\"sk-toggleable__content\"><pre>SVC()</pre></div></div></div></div></div>"
            ]
          },
          "metadata": {},
          "execution_count": 26
        }
      ]
    },
    {
      "cell_type": "markdown",
      "metadata": {
        "id": "O4OOhlinjTgZ"
      },
      "source": [
        "### 2.5. Make a prediction for a random image of the test dataset"
      ]
    },
    {
      "cell_type": "code",
      "metadata": {
        "id": "bhxGxT5NM2jn",
        "colab": {
          "base_uri": "https://localhost:8080/",
          "height": 465
        },
        "outputId": "8ad3d0a1-415f-47cf-c6a5-588ffce68e86"
      },
      "source": [
        "# Re-run several times to test several images\n",
        "\n",
        "# Choose a test image at random\n",
        "i = np.random.randint(0, X_test.shape[0]-1)\n",
        "\n",
        "# Display image\n",
        "plt.imshow(1.0-X_test[i,:].reshape(28, 28),cmap=\"gray\")\n",
        "plt.show()\n",
        "\n",
        "# Predict the value\n",
        "single_prediction = model.predict([X_test[i,:]])\n",
        "\n",
        "# Display label\n",
        "print(\"Predicted label: {}\\nActual label: {} \".format(single_prediction[0],\n",
        "                                                      Y_test[i]))"
      ],
      "execution_count": 27,
      "outputs": [
        {
          "output_type": "display_data",
          "data": {
            "text/plain": [
              "<Figure size 640x480 with 1 Axes>"
            ],
            "image/png": "[encoded data removed]"
          },
          "metadata": {}
        },
        {
          "output_type": "stream",
          "name": "stdout",
          "text": [
            "Predicted label: 6\n",
            "Actual label: 6 \n"
          ]
        }
      ]
    },
    {
      "cell_type": "markdown",
      "metadata": {
        "id": "QmBncemRjblk"
      },
      "source": [
        "### 2.6. Plot the confusion matrix & measure the accuracy"
      ]
    },
    {
      "cell_type": "code",
      "metadata": {
        "id": "vt5StboxM9YJ",
        "colab": {
          "base_uri": "https://localhost:8080/",
          "height": 510
        },
        "outputId": "7f26ae01-5831-4b17-e7be-c93770c8e88c"
      },
      "source": [
        "# Measure accuracy on a subset of the test set which was not used during training\n",
        "Y_predicted = model.predict(X_test[:1000])\n",
        "\n",
        "# Set the confusion matrix & display it\n",
        "cf_matrix = confusion_matrix(Y_test[:1000], Y_predicted)\n",
        "\n",
        "ax = sns.heatmap(cf_matrix, annot=True)\n",
        "\n",
        "ax.set_title('Confusion Matrix with labels\\n');\n",
        "ax.set_xlabel('Prediction')\n",
        "ax.set_ylabel('Actual');\n",
        "ax.xaxis.set_ticklabels([i for i in range(10)])\n",
        "ax.yaxis.set_ticklabels([i for i in range(10)])\n",
        "\n",
        "## Display the visualization of the Confusion Matrix.\n",
        "plt.show()\n",
        "\n",
        "# Compute the accuracy\n",
        "print(\"Accuracy=\", accuracy_score(Y_test[:1000], Y_predicted))"
      ],
      "execution_count": 28,
      "outputs": [
        {
          "output_type": "display_data",
          "data": {
            "text/plain": [
              "<Figure size 640x480 with 2 Axes>"
            ],
            "image/png": "[encoded data removed]"
          },
          "metadata": {}
        },
        {
          "output_type": "stream",
          "name": "stdout",
          "text": [
            "Accuracy= 0.972\n"
          ]
        }
      ]
    },
    {
      "cell_type": "code",
      "metadata": {
        "id": "CIem1i2GIST9",
        "colab": {
          "base_uri": "https://localhost:8080/",
          "height": 465
        },
        "outputId": "88fd5811-649c-4ed6-fcd4-487fd7ac5bca"
      },
      "source": [
        "# Observe the pictures badly classified to check if you could have done better:\n",
        "for i in range(100):\n",
        "  if Y_test[i] != Y_predicted[i]:\n",
        "    # Display image\n",
        "    plt.imshow(1.0-X_test[i,:].reshape(28, 28),cmap=\"gray\")\n",
        "    plt.show()\n",
        "\n",
        "    # Display label\n",
        "    print(\"Predicted label: {}\\nActual label: {} \".format(Y_predicted[i],\n",
        "                                                          Y_test[i]))"
      ],
      "execution_count": 31,
      "outputs": [
        {
          "output_type": "display_data",
          "data": {
            "text/plain": [
              "<Figure size 640x480 with 1 Axes>"
            ],
            "image/png": "[encoded data removed]"
          },
          "metadata": {}
        },
        {
          "output_type": "stream",
          "name": "stdout",
          "text": [
            "Predicted label: 6\n",
            "Actual label: 5 \n"
          ]
        }
      ]
    },
    {
      "cell_type": "markdown",
      "metadata": {
        "id": "xN1A6zuhU99c"
      },
      "source": [
        "# **Exercise 3. Simple regression problem - Support Vector Regressor (SVR)**\n",
        "\n",
        "#### Let's try SVMs on the prediction of fishes' weight based on their size characteristics\n",
        "- 3.1. Load the dataset and split into train & test (done): it can be found [here](https://www.kaggle.com/aungpyaeap/fish-market?select=Fish.csv)\n",
        "- 3.2. Do some exploration & transformation\n",
        "- 3.3. Split dataset into train & test\n",
        "- 3.4. Train your SVR (use sklearn.svm.SVR() function)\n",
        "- 3.5. Measure the accuracy of your model\n",
        "- 3.6. Improve your model"
      ]
    },
    {
      "cell_type": "code",
      "source": [
        "import os\n",
        "from google.colab import drive\n",
        "\n",
        "# Get the current location of your notebook\n",
        "print(os.getcwd())\n",
        "\n",
        "# Connect to your drive (it will ask you your Google account)\n",
        "drive.mount(os.getcwd()+'/drive')\n",
        "\n",
        "# Navigate and list content of your Drive folders\n",
        "print(os.listdir('drive/MyDrive/???'))"
      ],
      "metadata": {
        "id": "pwofVe-VyCbD",
        "colab": {
          "base_uri": "https://localhost:8080/",
          "height": 246
        },
        "outputId": "ab8583c9-a73c-46d9-f6c6-66b0f9bed055"
      },
      "execution_count": 40,
      "outputs": [
        {
          "output_type": "stream",
          "name": "stdout",
          "text": [
            "/content\n",
            "Drive already mounted at /content/drive; to attempt to forcibly remount, call drive.mount(\"/content/drive\", force_remount=True).\n"
          ]
        },
        {
          "output_type": "error",
          "ename": "FileNotFoundError",
          "evalue": "ignored",
          "traceback": [
            "\u001b[0;31m---------------------------------------------------------------------------\u001b[0m",
            "\u001b[0;31mFileNotFoundError\u001b[0m                         Traceback (most recent call last)",
            "\u001b[0;32m<ipython-input-40-bacb32b765fe>\u001b[0m in \u001b[0;36m<cell line: 11>\u001b[0;34m()\u001b[0m\n\u001b[1;32m      9\u001b[0m \u001b[0;34m\u001b[0m\u001b[0m\n\u001b[1;32m     10\u001b[0m \u001b[0;31m# Navigate and list content of your Drive folders\u001b[0m\u001b[0;34m\u001b[0m\u001b[0;34m\u001b[0m\u001b[0m\n\u001b[0;32m---> 11\u001b[0;31m \u001b[0mprint\u001b[0m\u001b[0;34m(\u001b[0m\u001b[0mos\u001b[0m\u001b[0;34m.\u001b[0m\u001b[0mlistdir\u001b[0m\u001b[0;34m(\u001b[0m\u001b[0;34m'drive/MyDrive/???'\u001b[0m\u001b[0;34m)\u001b[0m\u001b[0;34m)\u001b[0m\u001b[0;34m\u001b[0m\u001b[0;34m\u001b[0m\u001b[0m\n\u001b[0m",
            "\u001b[0;31mFileNotFoundError\u001b[0m: [Errno 2] No such file or directory: 'drive/MyDrive/???'"
          ]
        }
      ]
    },
    {
      "cell_type": "code",
      "source": [
        "import os"
      ],
      "metadata": {
        "id": "RKTKvG4J3Pam"
      },
      "execution_count": 38,
      "outputs": []
    },
    {
      "cell_type": "markdown",
      "source": [],
      "metadata": {
        "id": "y-QqjyNG2iMD"
      }
    },
    {
      "cell_type": "markdown",
      "source": [
        "### 3.1 Load the dataset"
      ],
      "metadata": {
        "id": "MX_jRo2gdYrv"
      }
    },
    {
      "cell_type": "code",
      "metadata": {
        "id": "I4HSGg4jSXwh",
        "colab": {
          "base_uri": "https://localhost:8080/",
          "height": 356
        },
        "outputId": "802dcd38-301a-4814-a5b4-7619be0649c1"
      },
      "source": [
        "dataset = pd.read_csv(\"C:/Users/ael6910a/Downloads/Fish.csv\")\n",
        "dataset.head()"
      ],
      "execution_count": 41,
      "outputs": [
        {
          "output_type": "error",
          "ename": "FileNotFoundError",
          "evalue": "ignored",
          "traceback": [
            "\u001b[0;31m---------------------------------------------------------------------------\u001b[0m",
            "\u001b[0;31mFileNotFoundError\u001b[0m                         Traceback (most recent call last)",
            "\u001b[0;32m<ipython-input-41-2c5700a32ff3>\u001b[0m in \u001b[0;36m<cell line: 1>\u001b[0;34m()\u001b[0m\n\u001b[0;32m----> 1\u001b[0;31m \u001b[0mdataset\u001b[0m \u001b[0;34m=\u001b[0m \u001b[0mpd\u001b[0m\u001b[0;34m.\u001b[0m\u001b[0mread_csv\u001b[0m\u001b[0;34m(\u001b[0m\u001b[0;34m\"C:/Users/ael6910a/Downloads/Fish.csv\"\u001b[0m\u001b[0;34m)\u001b[0m\u001b[0;34m\u001b[0m\u001b[0;34m\u001b[0m\u001b[0m\n\u001b[0m\u001b[1;32m      2\u001b[0m \u001b[0mdataset\u001b[0m\u001b[0;34m.\u001b[0m\u001b[0mhead\u001b[0m\u001b[0;34m(\u001b[0m\u001b[0;34m)\u001b[0m\u001b[0;34m\u001b[0m\u001b[0;34m\u001b[0m\u001b[0m\n",
            "\u001b[0;32m/usr/local/lib/python3.10/dist-packages/pandas/util/_decorators.py\u001b[0m in \u001b[0;36mwrapper\u001b[0;34m(*args, **kwargs)\u001b[0m\n\u001b[1;32m    209\u001b[0m                 \u001b[0;32melse\u001b[0m\u001b[0;34m:\u001b[0m\u001b[0;34m\u001b[0m\u001b[0;34m\u001b[0m\u001b[0m\n\u001b[1;32m    210\u001b[0m                     \u001b[0mkwargs\u001b[0m\u001b[0;34m[\u001b[0m\u001b[0mnew_arg_name\u001b[0m\u001b[0;34m]\u001b[0m \u001b[0;34m=\u001b[0m \u001b[0mnew_arg_value\u001b[0m\u001b[0;34m\u001b[0m\u001b[0;34m\u001b[0m\u001b[0m\n\u001b[0;32m--> 211\u001b[0;31m             \u001b[0;32mreturn\u001b[0m \u001b[0mfunc\u001b[0m\u001b[0;34m(\u001b[0m\u001b[0;34m*\u001b[0m\u001b[0margs\u001b[0m\u001b[0;34m,\u001b[0m \u001b[0;34m**\u001b[0m\u001b[0mkwargs\u001b[0m\u001b[0;34m)\u001b[0m\u001b[0;34m\u001b[0m\u001b[0;34m\u001b[0m\u001b[0m\n\u001b[0m\u001b[1;32m    212\u001b[0m \u001b[0;34m\u001b[0m\u001b[0m\n\u001b[1;32m    213\u001b[0m         \u001b[0;32mreturn\u001b[0m \u001b[0mcast\u001b[0m\u001b[0;34m(\u001b[0m\u001b[0mF\u001b[0m\u001b[0;34m,\u001b[0m \u001b[0mwrapper\u001b[0m\u001b[0;34m)\u001b[0m\u001b[0;34m\u001b[0m\u001b[0;34m\u001b[0m\u001b[0m\n",
            "\u001b[0;32m/usr/local/lib/python3.10/dist-packages/pandas/util/_decorators.py\u001b[0m in \u001b[0;36mwrapper\u001b[0;34m(*args, **kwargs)\u001b[0m\n\u001b[1;32m    329\u001b[0m                     \u001b[0mstacklevel\u001b[0m\u001b[0;34m=\u001b[0m\u001b[0mfind_stack_level\u001b[0m\u001b[0;34m(\u001b[0m\u001b[0;34m)\u001b[0m\u001b[0;34m,\u001b[0m\u001b[0;34m\u001b[0m\u001b[0;34m\u001b[0m\u001b[0m\n\u001b[1;32m    330\u001b[0m                 )\n\u001b[0;32m--> 331\u001b[0;31m             \u001b[0;32mreturn\u001b[0m \u001b[0mfunc\u001b[0m\u001b[0;34m(\u001b[0m\u001b[0;34m*\u001b[0m\u001b[0margs\u001b[0m\u001b[0;34m,\u001b[0m \u001b[0;34m**\u001b[0m\u001b[0mkwargs\u001b[0m\u001b[0;34m)\u001b[0m\u001b[0;34m\u001b[0m\u001b[0;34m\u001b[0m\u001b[0m\n\u001b[0m\u001b[1;32m    332\u001b[0m \u001b[0;34m\u001b[0m\u001b[0m\n\u001b[1;32m    333\u001b[0m         \u001b[0;31m# error: \"Callable[[VarArg(Any), KwArg(Any)], Any]\" has no\u001b[0m\u001b[0;34m\u001b[0m\u001b[0;34m\u001b[0m\u001b[0m\n",
            "\u001b[0;32m/usr/local/lib/python3.10/dist-packages/pandas/io/parsers/readers.py\u001b[0m in \u001b[0;36mread_csv\u001b[0;34m(filepath_or_buffer, sep, delimiter, header, names, index_col, usecols, squeeze, prefix, mangle_dupe_cols, dtype, engine, converters, true_values, false_values, skipinitialspace, skiprows, skipfooter, nrows, na_values, keep_default_na, na_filter, verbose, skip_blank_lines, parse_dates, infer_datetime_format, keep_date_col, date_parser, dayfirst, cache_dates, iterator, chunksize, compression, thousands, decimal, lineterminator, quotechar, quoting, doublequote, escapechar, comment, encoding, encoding_errors, dialect, error_bad_lines, warn_bad_lines, on_bad_lines, delim_whitespace, low_memory, memory_map, float_precision, storage_options)\u001b[0m\n\u001b[1;32m    948\u001b[0m     \u001b[0mkwds\u001b[0m\u001b[0;34m.\u001b[0m\u001b[0mupdate\u001b[0m\u001b[0;34m(\u001b[0m\u001b[0mkwds_defaults\u001b[0m\u001b[0;34m)\u001b[0m\u001b[0;34m\u001b[0m\u001b[0;34m\u001b[0m\u001b[0m\n\u001b[1;32m    949\u001b[0m \u001b[0;34m\u001b[0m\u001b[0m\n\u001b[0;32m--> 950\u001b[0;31m     \u001b[0;32mreturn\u001b[0m \u001b[0m_read\u001b[0m\u001b[0;34m(\u001b[0m\u001b[0mfilepath_or_buffer\u001b[0m\u001b[0;34m,\u001b[0m \u001b[0mkwds\u001b[0m\u001b[0;34m)\u001b[0m\u001b[0;34m\u001b[0m\u001b[0;34m\u001b[0m\u001b[0m\n\u001b[0m\u001b[1;32m    951\u001b[0m \u001b[0;34m\u001b[0m\u001b[0m\n\u001b[1;32m    952\u001b[0m \u001b[0;34m\u001b[0m\u001b[0m\n",
            "\u001b[0;32m/usr/local/lib/python3.10/dist-packages/pandas/io/parsers/readers.py\u001b[0m in \u001b[0;36m_read\u001b[0;34m(filepath_or_buffer, kwds)\u001b[0m\n\u001b[1;32m    603\u001b[0m \u001b[0;34m\u001b[0m\u001b[0m\n\u001b[1;32m    604\u001b[0m     \u001b[0;31m# Create the parser.\u001b[0m\u001b[0;34m\u001b[0m\u001b[0;34m\u001b[0m\u001b[0m\n\u001b[0;32m--> 605\u001b[0;31m     \u001b[0mparser\u001b[0m \u001b[0;34m=\u001b[0m \u001b[0mTextFileReader\u001b[0m\u001b[0;34m(\u001b[0m\u001b[0mfilepath_or_buffer\u001b[0m\u001b[0;34m,\u001b[0m \u001b[0;34m**\u001b[0m\u001b[0mkwds\u001b[0m\u001b[0;34m)\u001b[0m\u001b[0;34m\u001b[0m\u001b[0;34m\u001b[0m\u001b[0m\n\u001b[0m\u001b[1;32m    606\u001b[0m \u001b[0;34m\u001b[0m\u001b[0m\n\u001b[1;32m    607\u001b[0m     \u001b[0;32mif\u001b[0m \u001b[0mchunksize\u001b[0m \u001b[0;32mor\u001b[0m \u001b[0miterator\u001b[0m\u001b[0;34m:\u001b[0m\u001b[0;34m\u001b[0m\u001b[0;34m\u001b[0m\u001b[0m\n",
            "\u001b[0;32m/usr/local/lib/python3.10/dist-packages/pandas/io/parsers/readers.py\u001b[0m in \u001b[0;36m__init__\u001b[0;34m(self, f, engine, **kwds)\u001b[0m\n\u001b[1;32m   1440\u001b[0m \u001b[0;34m\u001b[0m\u001b[0m\n\u001b[1;32m   1441\u001b[0m         \u001b[0mself\u001b[0m\u001b[0;34m.\u001b[0m\u001b[0mhandles\u001b[0m\u001b[0;34m:\u001b[0m \u001b[0mIOHandles\u001b[0m \u001b[0;34m|\u001b[0m \u001b[0;32mNone\u001b[0m \u001b[0;34m=\u001b[0m \u001b[0;32mNone\u001b[0m\u001b[0;34m\u001b[0m\u001b[0;34m\u001b[0m\u001b[0m\n\u001b[0;32m-> 1442\u001b[0;31m         \u001b[0mself\u001b[0m\u001b[0;34m.\u001b[0m\u001b[0m_engine\u001b[0m \u001b[0;34m=\u001b[0m \u001b[0mself\u001b[0m\u001b[0;34m.\u001b[0m\u001b[0m_make_engine\u001b[0m\u001b[0;34m(\u001b[0m\u001b[0mf\u001b[0m\u001b[0;34m,\u001b[0m \u001b[0mself\u001b[0m\u001b[0;34m.\u001b[0m\u001b[0mengine\u001b[0m\u001b[0;34m)\u001b[0m\u001b[0;34m\u001b[0m\u001b[0;34m\u001b[0m\u001b[0m\n\u001b[0m\u001b[1;32m   1443\u001b[0m \u001b[0;34m\u001b[0m\u001b[0m\n\u001b[1;32m   1444\u001b[0m     \u001b[0;32mdef\u001b[0m \u001b[0mclose\u001b[0m\u001b[0;34m(\u001b[0m\u001b[0mself\u001b[0m\u001b[0;34m)\u001b[0m \u001b[0;34m->\u001b[0m \u001b[0;32mNone\u001b[0m\u001b[0;34m:\u001b[0m\u001b[0;34m\u001b[0m\u001b[0;34m\u001b[0m\u001b[0m\n",
            "\u001b[0;32m/usr/local/lib/python3.10/dist-packages/pandas/io/parsers/readers.py\u001b[0m in \u001b[0;36m_make_engine\u001b[0;34m(self, f, engine)\u001b[0m\n\u001b[1;32m   1733\u001b[0m                 \u001b[0;32mif\u001b[0m \u001b[0;34m\"b\"\u001b[0m \u001b[0;32mnot\u001b[0m \u001b[0;32min\u001b[0m \u001b[0mmode\u001b[0m\u001b[0;34m:\u001b[0m\u001b[0;34m\u001b[0m\u001b[0;34m\u001b[0m\u001b[0m\n\u001b[1;32m   1734\u001b[0m                     \u001b[0mmode\u001b[0m \u001b[0;34m+=\u001b[0m \u001b[0;34m\"b\"\u001b[0m\u001b[0;34m\u001b[0m\u001b[0;34m\u001b[0m\u001b[0m\n\u001b[0;32m-> 1735\u001b[0;31m             self.handles = get_handle(\n\u001b[0m\u001b[1;32m   1736\u001b[0m                 \u001b[0mf\u001b[0m\u001b[0;34m,\u001b[0m\u001b[0;34m\u001b[0m\u001b[0;34m\u001b[0m\u001b[0m\n\u001b[1;32m   1737\u001b[0m                 \u001b[0mmode\u001b[0m\u001b[0;34m,\u001b[0m\u001b[0;34m\u001b[0m\u001b[0;34m\u001b[0m\u001b[0m\n",
            "\u001b[0;32m/usr/local/lib/python3.10/dist-packages/pandas/io/common.py\u001b[0m in \u001b[0;36mget_handle\u001b[0;34m(path_or_buf, mode, encoding, compression, memory_map, is_text, errors, storage_options)\u001b[0m\n\u001b[1;32m    854\u001b[0m         \u001b[0;32mif\u001b[0m \u001b[0mioargs\u001b[0m\u001b[0;34m.\u001b[0m\u001b[0mencoding\u001b[0m \u001b[0;32mand\u001b[0m \u001b[0;34m\"b\"\u001b[0m \u001b[0;32mnot\u001b[0m \u001b[0;32min\u001b[0m \u001b[0mioargs\u001b[0m\u001b[0;34m.\u001b[0m\u001b[0mmode\u001b[0m\u001b[0;34m:\u001b[0m\u001b[0;34m\u001b[0m\u001b[0;34m\u001b[0m\u001b[0m\n\u001b[1;32m    855\u001b[0m             \u001b[0;31m# Encoding\u001b[0m\u001b[0;34m\u001b[0m\u001b[0;34m\u001b[0m\u001b[0m\n\u001b[0;32m--> 856\u001b[0;31m             handle = open(\n\u001b[0m\u001b[1;32m    857\u001b[0m                 \u001b[0mhandle\u001b[0m\u001b[0;34m,\u001b[0m\u001b[0;34m\u001b[0m\u001b[0;34m\u001b[0m\u001b[0m\n\u001b[1;32m    858\u001b[0m                 \u001b[0mioargs\u001b[0m\u001b[0;34m.\u001b[0m\u001b[0mmode\u001b[0m\u001b[0;34m,\u001b[0m\u001b[0;34m\u001b[0m\u001b[0;34m\u001b[0m\u001b[0m\n",
            "\u001b[0;31mFileNotFoundError\u001b[0m: [Errno 2] No such file or directory: 'C:/Users/ael6910a/Downloads/Fish.csv'"
          ]
        }
      ]
    },
    {
      "cell_type": "markdown",
      "source": [
        "### 3.2 Explore the dataset"
      ],
      "metadata": {
        "id": "rgNOHSrVddSp"
      }
    },
    {
      "cell_type": "code",
      "metadata": {
        "id": "VFJuMKsMob6M"
      },
      "source": [
        "# 3.2.1 View distribution of the fish species\n",
        "species = dataset.Species.unique()\n",
        "count = [len(dataset.loc[dataset.Species==species])\n",
        "         for species in dataset.Species.unique()]\n",
        "plt.bar(species, count)\n",
        "plt.show()"
      ],
      "execution_count": null,
      "outputs": []
    },
    {
      "cell_type": "code",
      "metadata": {
        "id": "uNkzMLzzTvzy"
      },
      "source": [
        "# 3.2.2 Plot relationships between variables\n",
        "df = dataset.loc[dataset.Species==\"Perch\"]\n",
        "plt.scatter(dataset[\"Height\"], dataset[\"Weight\"])"
      ],
      "execution_count": null,
      "outputs": []
    },
    {
      "cell_type": "code",
      "metadata": {
        "id": "AXllYqT0uIjo"
      },
      "source": [
        "# 3.2.3 Print the correlation matrix\n",
        "Corr_Matrix = round(df.corr(),2)\n",
        "print(Corr_Matrix)"
      ],
      "execution_count": null,
      "outputs": []
    },
    {
      "cell_type": "code",
      "metadata": {
        "id": "yWBEy3aPtJoN"
      },
      "source": [
        "# 3.2.4 One hot encode the only categorical column of the dataset (use pd.get_dummies)\n",
        "dataset = pd.get_dummies(dataset, columns=['Species'], drop_first=True)\n",
        "dataset.head()"
      ],
      "execution_count": null,
      "outputs": []
    },
    {
      "cell_type": "markdown",
      "source": [
        "### 3.3 Split train / test"
      ],
      "metadata": {
        "id": "gr5ax9yLdib0"
      }
    },
    {
      "cell_type": "code",
      "metadata": {
        "id": "j1ZVmnLzlyHX"
      },
      "source": [
        "X_train, X_test = train_test_split(dataset, train_size=0.8, random_state=21)\n",
        "Y_train = X_train.Weight\n",
        "Y_test = X_test.Weight\n",
        "del X_train[\"Weight\"]\n",
        "del X_test[\"Weight\"]"
      ],
      "execution_count": null,
      "outputs": []
    },
    {
      "cell_type": "markdown",
      "source": [
        "### 3.4 Train your model"
      ],
      "metadata": {
        "id": "Hw0ukaUHdmE6"
      }
    },
    {
      "cell_type": "code",
      "metadata": {
        "id": "NFmLYLgodvGM"
      },
      "source": [
        "model = ???\n",
        "model = model.fit(???)"
      ],
      "execution_count": null,
      "outputs": []
    },
    {
      "cell_type": "markdown",
      "source": [
        "### 3.5 Evaluate your model (here RMSE)"
      ],
      "metadata": {
        "id": "OVkDSB2Wdo1R"
      }
    },
    {
      "cell_type": "code",
      "metadata": {
        "id": "aQekPRrUjGWp"
      },
      "source": [
        "Y_pred = model.predict(???)\n",
        "mean_squared_error(Y_test, Y_pred, squared=False)"
      ],
      "execution_count": null,
      "outputs": []
    },
    {
      "cell_type": "markdown",
      "metadata": {
        "id": "F2OKTCPYJh0g"
      },
      "source": [
        "### 3.6 Improve your model by tuning SVR hyperparameters\n",
        "We will use the function: sklearn.model_selection.GridSearchCV(estimator, param_grid) where:\n",
        "- estimator: estimator object, svm.SVC() in our case\n",
        "- param_grid: dict with parameters names (string) as keys and lists of parameter settings to try as values"
      ]
    },
    {
      "cell_type": "code",
      "metadata": {
        "id": "Y3W4SQBjC4uz"
      },
      "source": [
        "param_grid = {\n",
        "    \"kernel\": [???],\n",
        "    \"C\": [???],\n",
        "    \"gamma\": [???],\n",
        "    \"epsilon\": [???]\n",
        "}\n",
        "grid = GridSearchCV(???, ???, scoring=\"neg_root_mean_squared_error\", cv=???)\n",
        "grid.fit(X_train, Y_train)\n",
        "\n",
        "print(\"We obtained a training RMSE score of:\", abs(grid.best_score_), \"with parameters:\", grid.best_params_)"
      ],
      "execution_count": null,
      "outputs": []
    },
    {
      "cell_type": "code",
      "source": [],
      "metadata": {
        "id": "R6hWcj98B4Og"
      },
      "execution_count": null,
      "outputs": []
    }
  ]
}